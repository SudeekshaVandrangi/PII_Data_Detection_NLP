{
 "cells": [
  {
   "cell_type": "markdown",
   "id": "ed59812d",
   "metadata": {},
   "source": [
    "## Importing Necesary libraries"
   ]
  },
  {
   "cell_type": "code",
   "execution_count": 1,
   "id": "6ee6dfa4",
   "metadata": {
    "execution": {
     "iopub.execute_input": "2024-05-12T05:28:02.955531Z",
     "iopub.status.busy": "2024-05-12T05:28:02.955076Z",
     "iopub.status.idle": "2024-05-12T05:28:09.915972Z",
     "shell.execute_reply": "2024-05-12T05:28:09.915121Z",
     "shell.execute_reply.started": "2024-05-12T05:28:02.955487Z"
    }
   },
   "outputs": [
    {
     "name": "stderr",
     "output_type": "stream",
     "text": [
      "2024-05-12 05:28:06.979356: E external/local_xla/xla/stream_executor/cuda/cuda_dnn.cc:9261] Unable to register cuDNN factory: Attempting to register factory for plugin cuDNN when one has already been registered\n",
      "2024-05-12 05:28:06.979414: E external/local_xla/xla/stream_executor/cuda/cuda_fft.cc:607] Unable to register cuFFT factory: Attempting to register factory for plugin cuFFT when one has already been registered\n",
      "2024-05-12 05:28:06.980890: E external/local_xla/xla/stream_executor/cuda/cuda_blas.cc:1515] Unable to register cuBLAS factory: Attempting to register factory for plugin cuBLAS when one has already been registered\n"
     ]
    }
   ],
   "source": [
    "import matplotlib.pyplot as plt\n",
    "import seaborn as sns\n",
    "from torch.utils.data import DataLoader, RandomSampler, TensorDataset\n",
    "import torch\n",
    "from transformers import get_scheduler\n",
    "from sklearn.model_selection import train_test_split\n",
    "import numpy as np\n",
    "from sklearn.metrics import fbeta_score\n",
    "from sklearn.metrics import accuracy_score, f1_score, precision_score, recall_score, precision_recall_fscore_support\n",
    "import json\n",
    "import pandas as pd\n",
    "from torch.utils.data import DataLoader, TensorDataset\n",
    "import numpy as np\n",
    "from transformers import pipeline\n",
    "import pandas as pd\n",
    "from transformers import DistilBertTokenizerFast\n",
    "from torch.utils.data import Dataset, DataLoader\n",
    "import torch\n",
    "from torch.utils.data import DataLoader, Dataset, random_split\n",
    "from transformers import DistilBertTokenizerFast, DistilBertForTokenClassification, AdamW\n",
    "from torch.nn.utils.rnn import pad_sequence\n",
    "from sklearn.model_selection import train_test_split\n",
    "from sklearn.metrics import accuracy_score, f1_score, fbeta_score\n",
    "import warnings\n",
    "warnings.filterwarnings('ignore')\n",
    "# Setting the seed for reproducibility\n",
    "torch.manual_seed(42)\n",
    "\n",
    "# Checking if CUDA is available and set the device accordingly\n",
    "device = torch.device(\"cuda\" if torch.cuda.is_available() else \"cpu\")"
   ]
  },
  {
   "cell_type": "markdown",
   "id": "6f7c9e42",
   "metadata": {},
   "source": [
    "## Loading the Data and analyzing the dataset structure"
   ]
  },
  {
   "cell_type": "code",
   "execution_count": 2,
   "id": "81d50787",
   "metadata": {
    "execution": {
     "iopub.execute_input": "2024-05-12T05:28:09.919338Z",
     "iopub.status.busy": "2024-05-12T05:28:09.918218Z",
     "iopub.status.idle": "2024-05-12T05:28:11.796156Z",
     "shell.execute_reply": "2024-05-12T05:28:11.795292Z",
     "shell.execute_reply.started": "2024-05-12T05:28:09.919299Z"
    }
   },
   "outputs": [
    {
     "data": {
      "text/html": [
       "<div>\n",
       "<style scoped>\n",
       "    .dataframe tbody tr th:only-of-type {\n",
       "        vertical-align: middle;\n",
       "    }\n",
       "\n",
       "    .dataframe tbody tr th {\n",
       "        vertical-align: top;\n",
       "    }\n",
       "\n",
       "    .dataframe thead th {\n",
       "        text-align: right;\n",
       "    }\n",
       "</style>\n",
       "<table border=\"1\" class=\"dataframe\">\n",
       "  <thead>\n",
       "    <tr style=\"text-align: right;\">\n",
       "      <th></th>\n",
       "      <th>document</th>\n",
       "      <th>full_text</th>\n",
       "      <th>tokens</th>\n",
       "      <th>trailing_whitespace</th>\n",
       "      <th>labels</th>\n",
       "    </tr>\n",
       "  </thead>\n",
       "  <tbody>\n",
       "    <tr>\n",
       "      <th>0</th>\n",
       "      <td>7</td>\n",
       "      <td>Design Thinking for innovation reflexion-Avril...</td>\n",
       "      <td>[Design, Thinking, for, innovation, reflexion,...</td>\n",
       "      <td>[True, True, True, True, False, False, True, F...</td>\n",
       "      <td>[O, O, O, O, O, O, O, O, O, B-NAME_STUDENT, I-...</td>\n",
       "    </tr>\n",
       "    <tr>\n",
       "      <th>1</th>\n",
       "      <td>10</td>\n",
       "      <td>Diego Estrada\\n\\nDesign Thinking Assignment\\n\\...</td>\n",
       "      <td>[Diego, Estrada, \\n\\n, Design, Thinking, Assig...</td>\n",
       "      <td>[True, False, False, True, True, False, False,...</td>\n",
       "      <td>[B-NAME_STUDENT, I-NAME_STUDENT, O, O, O, O, O...</td>\n",
       "    </tr>\n",
       "    <tr>\n",
       "      <th>2</th>\n",
       "      <td>16</td>\n",
       "      <td>Reporting process\\n\\nby Gilberto Gamboa\\n\\nCha...</td>\n",
       "      <td>[Reporting, process, \\n\\n, by, Gilberto, Gambo...</td>\n",
       "      <td>[True, False, False, True, True, False, False,...</td>\n",
       "      <td>[O, O, O, O, B-NAME_STUDENT, I-NAME_STUDENT, O...</td>\n",
       "    </tr>\n",
       "    <tr>\n",
       "      <th>3</th>\n",
       "      <td>20</td>\n",
       "      <td>Design Thinking for Innovation\\n\\nSindy Samaca...</td>\n",
       "      <td>[Design, Thinking, for, Innovation, \\n\\n, Sind...</td>\n",
       "      <td>[True, True, True, False, False, True, False, ...</td>\n",
       "      <td>[O, O, O, O, O, B-NAME_STUDENT, I-NAME_STUDENT...</td>\n",
       "    </tr>\n",
       "    <tr>\n",
       "      <th>4</th>\n",
       "      <td>56</td>\n",
       "      <td>Assignment:  Visualization Reflection  Submitt...</td>\n",
       "      <td>[Assignment, :,   , Visualization,  , Reflecti...</td>\n",
       "      <td>[False, False, False, False, False, False, Fal...</td>\n",
       "      <td>[O, O, O, O, O, O, O, O, O, O, O, O, B-NAME_ST...</td>\n",
       "    </tr>\n",
       "  </tbody>\n",
       "</table>\n",
       "</div>"
      ],
      "text/plain": [
       "   document                                          full_text  \\\n",
       "0         7  Design Thinking for innovation reflexion-Avril...   \n",
       "1        10  Diego Estrada\\n\\nDesign Thinking Assignment\\n\\...   \n",
       "2        16  Reporting process\\n\\nby Gilberto Gamboa\\n\\nCha...   \n",
       "3        20  Design Thinking for Innovation\\n\\nSindy Samaca...   \n",
       "4        56  Assignment:  Visualization Reflection  Submitt...   \n",
       "\n",
       "                                              tokens  \\\n",
       "0  [Design, Thinking, for, innovation, reflexion,...   \n",
       "1  [Diego, Estrada, \\n\\n, Design, Thinking, Assig...   \n",
       "2  [Reporting, process, \\n\\n, by, Gilberto, Gambo...   \n",
       "3  [Design, Thinking, for, Innovation, \\n\\n, Sind...   \n",
       "4  [Assignment, :,   , Visualization,  , Reflecti...   \n",
       "\n",
       "                                 trailing_whitespace  \\\n",
       "0  [True, True, True, True, False, False, True, F...   \n",
       "1  [True, False, False, True, True, False, False,...   \n",
       "2  [True, False, False, True, True, False, False,...   \n",
       "3  [True, True, True, False, False, True, False, ...   \n",
       "4  [False, False, False, False, False, False, Fal...   \n",
       "\n",
       "                                              labels  \n",
       "0  [O, O, O, O, O, O, O, O, O, B-NAME_STUDENT, I-...  \n",
       "1  [B-NAME_STUDENT, I-NAME_STUDENT, O, O, O, O, O...  \n",
       "2  [O, O, O, O, B-NAME_STUDENT, I-NAME_STUDENT, O...  \n",
       "3  [O, O, O, O, O, B-NAME_STUDENT, I-NAME_STUDENT...  \n",
       "4  [O, O, O, O, O, O, O, O, O, O, O, O, B-NAME_ST...  "
      ]
     },
     "execution_count": 2,
     "metadata": {},
     "output_type": "execute_result"
    }
   ],
   "source": [
    "# Loading the JSON data\n",
    "with open('/kaggle/input/pii-detection-removal-from-educational-data/train.json', 'r') as file:\n",
    "    data = json.load(file)\n",
    "\n",
    "# Converting to DataFrame\n",
    "data = pd.json_normalize(data)\n",
    "data.head()"
   ]
  },
  {
   "cell_type": "code",
   "execution_count": 3,
   "id": "fd283df8",
   "metadata": {
    "execution": {
     "iopub.execute_input": "2024-05-12T05:28:11.797443Z",
     "iopub.status.busy": "2024-05-12T05:28:11.797174Z",
     "iopub.status.idle": "2024-05-12T05:28:11.808729Z",
     "shell.execute_reply": "2024-05-12T05:28:11.807705Z",
     "shell.execute_reply.started": "2024-05-12T05:28:11.797419Z"
    }
   },
   "outputs": [
    {
     "data": {
      "text/plain": [
       "document               0\n",
       "full_text              0\n",
       "tokens                 0\n",
       "trailing_whitespace    0\n",
       "labels                 0\n",
       "dtype: int64"
      ]
     },
     "execution_count": 3,
     "metadata": {},
     "output_type": "execute_result"
    }
   ],
   "source": [
    "data.isnull().sum()"
   ]
  },
  {
   "cell_type": "code",
   "execution_count": 4,
   "id": "9bf28ac3",
   "metadata": {
    "execution": {
     "iopub.execute_input": "2024-05-12T05:28:11.810879Z",
     "iopub.status.busy": "2024-05-12T05:28:11.810154Z",
     "iopub.status.idle": "2024-05-12T05:28:11.828426Z",
     "shell.execute_reply": "2024-05-12T05:28:11.827513Z",
     "shell.execute_reply.started": "2024-05-12T05:28:11.810842Z"
    }
   },
   "outputs": [
    {
     "name": "stdout",
     "output_type": "stream",
     "text": [
      "<class 'pandas.core.frame.DataFrame'>\n",
      "RangeIndex: 6807 entries, 0 to 6806\n",
      "Data columns (total 5 columns):\n",
      " #   Column               Non-Null Count  Dtype \n",
      "---  ------               --------------  ----- \n",
      " 0   document             6807 non-null   int64 \n",
      " 1   full_text            6807 non-null   object\n",
      " 2   tokens               6807 non-null   object\n",
      " 3   trailing_whitespace  6807 non-null   object\n",
      " 4   labels               6807 non-null   object\n",
      "dtypes: int64(1), object(4)\n",
      "memory usage: 266.0+ KB\n"
     ]
    }
   ],
   "source": [
    "data.info()"
   ]
  },
  {
   "cell_type": "code",
   "execution_count": 5,
   "id": "6190b7a2",
   "metadata": {
    "execution": {
     "iopub.execute_input": "2024-05-12T05:28:11.831076Z",
     "iopub.status.busy": "2024-05-12T05:28:11.830796Z",
     "iopub.status.idle": "2024-05-12T05:28:12.941758Z",
     "shell.execute_reply": "2024-05-12T05:28:12.940739Z",
     "shell.execute_reply.started": "2024-05-12T05:28:11.831053Z"
    }
   },
   "outputs": [
    {
     "name": "stdout",
     "output_type": "stream",
     "text": [
      "tokens\n",
      "the     236386\n",
      "        221248\n",
      ".       172786\n",
      "to      161026\n",
      ",       152951\n",
      "and     136079\n",
      "of      108775\n",
      "\\n\\n    104136\n",
      "a        92086\n",
      "in       66727\n",
      "I        56738\n",
      "that     53476\n",
      "we       41533\n",
      "is       41076\n",
      "for      38363\n",
      "with     36384\n",
      "was      31822\n",
      "it       28198\n",
      "our      27279\n",
      "on       26823\n",
      "Name: count, dtype: int64\n"
     ]
    }
   ],
   "source": [
    "# Token counts and frequency\n",
    "token_counts = data['tokens'].explode().value_counts()\n",
    "print(token_counts.head(20))"
   ]
  },
  {
   "cell_type": "code",
   "execution_count": 6,
   "id": "7598894a",
   "metadata": {
    "execution": {
     "iopub.execute_input": "2024-05-12T05:28:12.943044Z",
     "iopub.status.busy": "2024-05-12T05:28:12.942771Z",
     "iopub.status.idle": "2024-05-12T05:28:13.650409Z",
     "shell.execute_reply": "2024-05-12T05:28:13.649483Z",
     "shell.execute_reply.started": "2024-05-12T05:28:12.943020Z"
    }
   },
   "outputs": [
    {
     "name": "stdout",
     "output_type": "stream",
     "text": [
      "labels\n",
      "O                   4989794\n",
      "B-NAME_STUDENT         1365\n",
      "I-NAME_STUDENT         1096\n",
      "B-URL_PERSONAL          110\n",
      "B-ID_NUM                 78\n",
      "B-EMAIL                  39\n",
      "I-STREET_ADDRESS         20\n",
      "I-PHONE_NUM              15\n",
      "B-USERNAME                6\n",
      "B-PHONE_NUM               6\n",
      "B-STREET_ADDRESS          2\n",
      "I-URL_PERSONAL            1\n",
      "I-ID_NUM                  1\n",
      "Name: count, dtype: int64\n"
     ]
    }
   ],
   "source": [
    "# Label counts and frequency\n",
    "label_counts = data['labels'].explode().value_counts()\n",
    "print(label_counts)"
   ]
  },
  {
   "cell_type": "markdown",
   "id": "334965b2",
   "metadata": {},
   "source": [
    "## Exploratory Data Analysis (Visualization can help in understanding the distribution of tokens, labels, and documents.)"
   ]
  },
  {
   "cell_type": "code",
   "execution_count": 7,
   "id": "9c927aa9",
   "metadata": {
    "execution": {
     "iopub.execute_input": "2024-05-12T05:28:13.652063Z",
     "iopub.status.busy": "2024-05-12T05:28:13.651661Z",
     "iopub.status.idle": "2024-05-12T05:28:19.169858Z",
     "shell.execute_reply": "2024-05-12T05:28:19.168945Z",
     "shell.execute_reply.started": "2024-05-12T05:28:13.652026Z"
    }
   },
   "outputs": [
    {
     "data": {
      "image/png": "[encoded data removed]",
      "text/plain": [
       "<Figure size 640x480 with 1 Axes>"
      ]
     },
     "metadata": {},
     "output_type": "display_data"
    },
    {
     "data": {
      "image/png": "[encoded data removed]",
      "text/plain": [
       "<Figure size 640x480 with 1 Axes>"
      ]
     },
     "metadata": {},
     "output_type": "display_data"
    }
   ],
   "source": [
    "# Visualizing the distribution of document lengths\n",
    "doc_lengths = data['tokens'].apply(len)\n",
    "sns.histplot(doc_lengths, kde=True)\n",
    "plt.title('Document Length Distribution')\n",
    "plt.xlabel('Document Length')\n",
    "plt.ylabel('Frequency')\n",
    "plt.show()\n",
    "\n",
    "# Visualizing label distributions\n",
    "sns.countplot(y=data['labels'].explode())\n",
    "plt.title('Label Distribution')\n",
    "plt.xlabel('Frequency')\n",
    "plt.ylabel('Labels')\n",
    "plt.show()"
   ]
  },
  {
   "cell_type": "markdown",
   "id": "b2a6e02f",
   "metadata": {},
   "source": [
    "### Specific PII Analysis(Diving deeper into specific types of PII to understand their context and distribution.)"
   ]
  },
  {
   "cell_type": "code",
   "execution_count": 8,
   "id": "5a4c000b",
   "metadata": {
    "execution": {
     "iopub.execute_input": "2024-05-12T05:28:19.171590Z",
     "iopub.status.busy": "2024-05-12T05:28:19.171228Z",
     "iopub.status.idle": "2024-05-12T05:28:19.242122Z",
     "shell.execute_reply": "2024-05-12T05:28:19.241253Z",
     "shell.execute_reply.started": "2024-05-12T05:28:19.171553Z"
    }
   },
   "outputs": [
    {
     "name": "stdout",
     "output_type": "stream",
     "text": [
      "   document                                          full_text  \\\n",
      "0         7  Design Thinking for innovation reflexion-Avril...   \n",
      "1        10  Diego Estrada\\n\\nDesign Thinking Assignment\\n\\...   \n",
      "2        16  Reporting process\\n\\nby Gilberto Gamboa\\n\\nCha...   \n",
      "3        20  Design Thinking for Innovation\\n\\nSindy Samaca...   \n",
      "4        56  Assignment:  Visualization Reflection  Submitt...   \n",
      "\n",
      "                                              tokens  \\\n",
      "0  [Design, Thinking, for, innovation, reflexion,...   \n",
      "1  [Diego, Estrada, \\n\\n, Design, Thinking, Assig...   \n",
      "2  [Reporting, process, \\n\\n, by, Gilberto, Gambo...   \n",
      "3  [Design, Thinking, for, Innovation, \\n\\n, Sind...   \n",
      "4  [Assignment, :,   , Visualization,  , Reflecti...   \n",
      "\n",
      "                                 trailing_whitespace  \\\n",
      "0  [True, True, True, True, False, False, True, F...   \n",
      "1  [True, False, False, True, True, False, False,...   \n",
      "2  [True, False, False, True, True, False, False,...   \n",
      "3  [True, True, True, False, False, True, False, ...   \n",
      "4  [False, False, False, False, False, False, Fal...   \n",
      "\n",
      "                                              labels  \n",
      "0  [O, O, O, O, O, O, O, O, O, B-NAME_STUDENT, I-...  \n",
      "1  [B-NAME_STUDENT, I-NAME_STUDENT, O, O, O, O, O...  \n",
      "2  [O, O, O, O, B-NAME_STUDENT, I-NAME_STUDENT, O...  \n",
      "3  [O, O, O, O, O, B-NAME_STUDENT, I-NAME_STUDENT...  \n",
      "4  [O, O, O, O, O, O, O, O, O, O, O, O, B-NAME_ST...  \n",
      "Context around PII: reflexion - Avril 2021 - Nathalie Sylla \n",
      "\n",
      " Challenge & selection\n",
      "Context around PII: - Avril 2021 - Nathalie Sylla \n",
      "\n",
      " Challenge & selection \n",
      "\n",
      "\n",
      "Context around PII: reflexion - Avril 2021 - Nathalie Sylla \n",
      "\n",
      " After modelling the\n",
      "Context around PII: - Avril 2021 - Nathalie Sylla \n",
      "\n",
      " After modelling the mind\n",
      "Context around PII: reflexion - Avril 2021 - Nathalie Sylla \n",
      "\n",
      " Annex 1 :\n",
      "Context around PII: - Avril 2021 - Nathalie Sylla \n",
      "\n",
      " Annex 1 : Mind\n"
     ]
    }
   ],
   "source": [
    "# Filtering the data to see examples of a specific label\n",
    "pii_examples = data[data['labels'].apply(lambda x: 'B-NAME_STUDENT' in x)]\n",
    "print(pii_examples.head())\n",
    "\n",
    "# Analyzing the context around a specific PII label\n",
    "def print_context(index, window=5):\n",
    "    tokens = data.at[index, 'tokens']\n",
    "    labels = data.at[index, 'labels']\n",
    "    pii_indices = [i for i, label in enumerate(labels) if 'NAME_STUDENT' in label]\n",
    "    for pii_index in pii_indices:\n",
    "        start = max(0, pii_index - window)\n",
    "        end = min(len(tokens), pii_index + window + 1)\n",
    "        context = tokens[start:end]\n",
    "        print(\"Context around PII:\", ' '.join(context))\n",
    "\n",
    "print_context(0) "
   ]
  },
  {
   "cell_type": "markdown",
   "id": "dc31b79f",
   "metadata": {},
   "source": [
    "### Explore Anomalies and Outliers(Identifying any anomalies or outliers in the data, which could affect model training)"
   ]
  },
  {
   "cell_type": "code",
   "execution_count": 9,
   "id": "fea8be4f",
   "metadata": {
    "execution": {
     "iopub.execute_input": "2024-05-12T05:28:19.243456Z",
     "iopub.status.busy": "2024-05-12T05:28:19.243189Z",
     "iopub.status.idle": "2024-05-12T05:28:19.250042Z",
     "shell.execute_reply": "2024-05-12T05:28:19.249010Z",
     "shell.execute_reply.started": "2024-05-12T05:28:19.243432Z"
    }
   },
   "outputs": [
    {
     "name": "stdout",
     "output_type": "stream",
     "text": [
      "Longest document length: 3298\n",
      "Shortest document length: 69\n",
      "Unusual Labels: labels\n",
      "B-USERNAME          6\n",
      "B-PHONE_NUM         6\n",
      "B-STREET_ADDRESS    2\n",
      "I-URL_PERSONAL      1\n",
      "I-ID_NUM            1\n",
      "Name: count, dtype: int64\n"
     ]
    }
   ],
   "source": [
    "# Looking for unusually long or short documents\n",
    "print(\"Longest document length:\", doc_lengths.max())\n",
    "print(\"Shortest document length:\", doc_lengths.min())\n",
    "\n",
    "# Checking for unusual labels\n",
    "unusual_labels = label_counts[label_counts < 10]  #Arbitrary threshold\n",
    "print(\"Unusual Labels:\", unusual_labels)"
   ]
  },
  {
   "cell_type": "markdown",
   "id": "319c0aeb",
   "metadata": {},
   "source": [
    "## Using DistilBert Model"
   ]
  },
  {
   "cell_type": "markdown",
   "id": "89e880d5",
   "metadata": {},
   "source": [
    "### Loading both train and test josn files"
   ]
  },
  {
   "cell_type": "code",
   "execution_count": 10,
   "id": "fe910775",
   "metadata": {
    "execution": {
     "iopub.execute_input": "2024-05-12T05:28:19.251869Z",
     "iopub.status.busy": "2024-05-12T05:28:19.251515Z",
     "iopub.status.idle": "2024-05-12T05:28:20.898233Z",
     "shell.execute_reply": "2024-05-12T05:28:20.897429Z",
     "shell.execute_reply.started": "2024-05-12T05:28:19.251835Z"
    }
   },
   "outputs": [],
   "source": [
    "def load_data(filename):\n",
    "    return pd.read_json(filename)\n",
    "    return data\n",
    "\n",
    "# Load data\n",
    "test_data = load_data('/kaggle/input/pii-detection-removal-from-educational-data/test.json')\n",
    "train_data = load_data('/kaggle/input/pii-detection-removal-from-educational-data/train.json')"
   ]
  },
  {
   "cell_type": "markdown",
   "id": "92aa10e1",
   "metadata": {},
   "source": [
    "### Defining the label map"
   ]
  },
  {
   "cell_type": "code",
   "execution_count": 11,
   "id": "eb7837a9",
   "metadata": {
    "execution": {
     "iopub.execute_input": "2024-05-12T05:28:20.899711Z",
     "iopub.status.busy": "2024-05-12T05:28:20.899363Z",
     "iopub.status.idle": "2024-05-12T05:28:20.905141Z",
     "shell.execute_reply": "2024-05-12T05:28:20.904260Z",
     "shell.execute_reply.started": "2024-05-12T05:28:20.899678Z"
    }
   },
   "outputs": [],
   "source": [
    "label_map = {label: i for i, label in enumerate(['O', 'B-NAME_STUDENT', 'I-NAME_STUDENT', 'B-URL_PERSONAL', 'I-URL_PERSONAL', 'B-EMAIL', 'I-EMAIL', 'B-PHONE_NUM', 'I-PHONE_NUM', 'B-ID_NUM', 'I-ID_NUM', 'B-USERNAME', 'I-USERNAME', 'B-STREET_ADDRESS', 'I-STREET_ADDRESS'])}"
   ]
  },
  {
   "cell_type": "markdown",
   "id": "88559629",
   "metadata": {},
   "source": [
    "### Initializing the tokenizer and model"
   ]
  },
  {
   "cell_type": "code",
   "execution_count": 12,
   "id": "91f8b396",
   "metadata": {
    "execution": {
     "iopub.execute_input": "2024-05-12T05:28:20.906646Z",
     "iopub.status.busy": "2024-05-12T05:28:20.906371Z",
     "iopub.status.idle": "2024-05-12T05:28:21.827915Z",
     "shell.execute_reply": "2024-05-12T05:28:21.827012Z",
     "shell.execute_reply.started": "2024-05-12T05:28:20.906617Z"
    }
   },
   "outputs": [
    {
     "name": "stderr",
     "output_type": "stream",
     "text": [
      "Some weights of DistilBertForTokenClassification were not initialized from the model checkpoint at distilbert-base-uncased and are newly initialized: ['classifier.bias', 'classifier.weight']\n",
      "You should probably TRAIN this model on a down-stream task to be able to use it for predictions and inference.\n"
     ]
    },
    {
     "data": {
      "text/plain": [
       "DistilBertForTokenClassification(\n",
       "  (distilbert): DistilBertModel(\n",
       "    (embeddings): Embeddings(\n",
       "      (word_embeddings): Embedding(30522, 768, padding_idx=0)\n",
       "      (position_embeddings): Embedding(512, 768)\n",
       "      (LayerNorm): LayerNorm((768,), eps=1e-12, elementwise_affine=True)\n",
       "      (dropout): Dropout(p=0.1, inplace=False)\n",
       "    )\n",
       "    (transformer): Transformer(\n",
       "      (layer): ModuleList(\n",
       "        (0-5): 6 x TransformerBlock(\n",
       "          (attention): MultiHeadSelfAttention(\n",
       "            (dropout): Dropout(p=0.1, inplace=False)\n",
       "            (q_lin): Linear(in_features=768, out_features=768, bias=True)\n",
       "            (k_lin): Linear(in_features=768, out_features=768, bias=True)\n",
       "            (v_lin): Linear(in_features=768, out_features=768, bias=True)\n",
       "            (out_lin): Linear(in_features=768, out_features=768, bias=True)\n",
       "          )\n",
       "          (sa_layer_norm): LayerNorm((768,), eps=1e-12, elementwise_affine=True)\n",
       "          (ffn): FFN(\n",
       "            (dropout): Dropout(p=0.1, inplace=False)\n",
       "            (lin1): Linear(in_features=768, out_features=3072, bias=True)\n",
       "            (lin2): Linear(in_features=3072, out_features=768, bias=True)\n",
       "            (activation): GELUActivation()\n",
       "          )\n",
       "          (output_layer_norm): LayerNorm((768,), eps=1e-12, elementwise_affine=True)\n",
       "        )\n",
       "      )\n",
       "    )\n",
       "  )\n",
       "  (dropout): Dropout(p=0.1, inplace=False)\n",
       "  (classifier): Linear(in_features=768, out_features=15, bias=True)\n",
       ")"
      ]
     },
     "execution_count": 12,
     "metadata": {},
     "output_type": "execute_result"
    }
   ],
   "source": [
    "tokenizer = DistilBertTokenizerFast.from_pretrained('distilbert-base-uncased')\n",
    "model = DistilBertForTokenClassification.from_pretrained('distilbert-base-uncased', num_labels=15)\n",
    "model.to(device)"
   ]
  },
  {
   "cell_type": "markdown",
   "id": "6a4376c3",
   "metadata": {},
   "source": [
    "### Preprocessing "
   ]
  },
  {
   "cell_type": "code",
   "execution_count": 13,
   "id": "9b294aaa",
   "metadata": {
    "execution": {
     "iopub.execute_input": "2024-05-12T05:28:21.829673Z",
     "iopub.status.busy": "2024-05-12T05:28:21.829275Z",
     "iopub.status.idle": "2024-05-12T05:28:21.838255Z",
     "shell.execute_reply": "2024-05-12T05:28:21.837169Z",
     "shell.execute_reply.started": "2024-05-12T05:28:21.829636Z"
    }
   },
   "outputs": [],
   "source": [
    "def tokenize_and_align_labels(data, tokenizer, label_map):\n",
    "    tokenized_inputs = tokenizer(data['tokens'].tolist(), truncation=True, padding='max_length', is_split_into_words=True, return_tensors=\"pt\", max_length=512)\n",
    "    labels = []\n",
    "    for i, label_list in enumerate(data['labels']):\n",
    "        word_ids = tokenized_inputs.word_ids(batch_index=i)  # Maping tokens to their word IDs\n",
    "        label_ids = []\n",
    "        previous_word_id = None\n",
    "        for word_id in word_ids:\n",
    "            if word_id is None:\n",
    "                label_ids.append(-100)  # Special tokens receive a label of -100\n",
    "            elif word_id != previous_word_id:\n",
    "                label_ids.append(label_map[label_list[word_id]])  # Only label the first token of a given word\n",
    "            else:\n",
    "                label_ids.append(-100)  # Subsequent tokens receive a label of -100\n",
    "            previous_word_id = word_id\n",
    "        \n",
    "        labels.append(torch.tensor(label_ids))\n",
    "\n",
    "    tokenized_inputs['labels'] = pad_sequence(labels, batch_first=True, padding_value=-100)\n",
    "    return tokenized_inputs"
   ]
  },
  {
   "cell_type": "code",
   "execution_count": 14,
   "id": "7c30f7fa",
   "metadata": {
    "execution": {
     "iopub.execute_input": "2024-05-12T05:28:21.842576Z",
     "iopub.status.busy": "2024-05-12T05:28:21.842208Z",
     "iopub.status.idle": "2024-05-12T05:28:21.848636Z",
     "shell.execute_reply": "2024-05-12T05:28:21.847680Z",
     "shell.execute_reply.started": "2024-05-12T05:28:21.842551Z"
    }
   },
   "outputs": [],
   "source": [
    "def preprocess_text(texts):\n",
    "    \n",
    "    # Replacing new lines and multiple spaces with a single space\n",
    "    processed_texts = [text.replace('\\n', ' ').replace('\\r', ' ').strip() for text in texts]\n",
    "    return processed_texts"
   ]
  },
  {
   "cell_type": "code",
   "execution_count": 15,
   "id": "0e193ef0",
   "metadata": {
    "execution": {
     "iopub.execute_input": "2024-05-12T05:28:21.850007Z",
     "iopub.status.busy": "2024-05-12T05:28:21.849712Z",
     "iopub.status.idle": "2024-05-12T05:28:40.039379Z",
     "shell.execute_reply": "2024-05-12T05:28:40.038360Z",
     "shell.execute_reply.started": "2024-05-12T05:28:21.849975Z"
    }
   },
   "outputs": [],
   "source": [
    "# proceeding with tokenization and aligning labels\n",
    "train_tokenized = tokenize_and_align_labels(train_data, tokenizer, label_map)"
   ]
  },
  {
   "cell_type": "markdown",
   "id": "f0090707",
   "metadata": {},
   "source": [
    "### Splitting the train dataset into train and val sets. "
   ]
  },
  {
   "cell_type": "code",
   "execution_count": 16,
   "id": "a895aa43",
   "metadata": {
    "execution": {
     "iopub.execute_input": "2024-05-12T05:28:40.041040Z",
     "iopub.status.busy": "2024-05-12T05:28:40.040707Z",
     "iopub.status.idle": "2024-05-12T05:28:40.048622Z",
     "shell.execute_reply": "2024-05-12T05:28:40.047635Z",
     "shell.execute_reply.started": "2024-05-12T05:28:40.041013Z"
    }
   },
   "outputs": [],
   "source": [
    "class PIIDataset(Dataset):\n",
    "    def __init__(self, encodings):\n",
    "        self.encodings = encodings\n",
    "\n",
    "    def __getitem__(self, idx):\n",
    "        return {key: torch.tensor(val[idx]) for key, val in self.encodings.items()}\n",
    "\n",
    "    def __len__(self):\n",
    "        return len(self.encodings.input_ids)\n",
    "\n",
    "dataset = PIIDataset(train_tokenized)\n",
    "train_size = int(0.9 * len(dataset))\n",
    "val_size = len(dataset) - train_size\n",
    "train_dataset, val_dataset = random_split(dataset, [train_size, val_size])"
   ]
  },
  {
   "cell_type": "markdown",
   "id": "f8e8a63b",
   "metadata": {},
   "source": [
    "### Defining data loaders"
   ]
  },
  {
   "cell_type": "code",
   "execution_count": 17,
   "id": "8c7101bd",
   "metadata": {
    "execution": {
     "iopub.execute_input": "2024-05-12T05:28:40.050015Z",
     "iopub.status.busy": "2024-05-12T05:28:40.049699Z",
     "iopub.status.idle": "2024-05-12T05:28:40.063175Z",
     "shell.execute_reply": "2024-05-12T05:28:40.062322Z",
     "shell.execute_reply.started": "2024-05-12T05:28:40.049990Z"
    }
   },
   "outputs": [],
   "source": [
    "train_loader = DataLoader(train_dataset, batch_size=16, shuffle=True)\n",
    "val_loader = DataLoader(val_dataset, batch_size=16, shuffle=False)"
   ]
  },
  {
   "cell_type": "markdown",
   "id": "64ef569a",
   "metadata": {},
   "source": [
    "### Defining optimizer and metrics"
   ]
  },
  {
   "cell_type": "code",
   "execution_count": 18,
   "id": "2cb5f142",
   "metadata": {
    "execution": {
     "iopub.execute_input": "2024-05-12T05:28:40.064450Z",
     "iopub.status.busy": "2024-05-12T05:28:40.064180Z",
     "iopub.status.idle": "2024-05-12T05:28:40.074871Z",
     "shell.execute_reply": "2024-05-12T05:28:40.073906Z",
     "shell.execute_reply.started": "2024-05-12T05:28:40.064419Z"
    }
   },
   "outputs": [],
   "source": [
    "optimizer = AdamW(model.parameters(), lr=2e-5)\n",
    "\n",
    "#Collecting metrics and losses for plotting\n",
    "train_losses, val_losses = [], []\n",
    "accuracies, f1_scores, fbeta_scores = [], [], []"
   ]
  },
  {
   "cell_type": "markdown",
   "id": "0cbe4387",
   "metadata": {},
   "source": [
    "### Training the model"
   ]
  },
  {
   "cell_type": "code",
   "execution_count": 19,
   "id": "e364d743",
   "metadata": {
    "execution": {
     "iopub.execute_input": "2024-05-12T05:28:40.077035Z",
     "iopub.status.busy": "2024-05-12T05:28:40.076295Z",
     "iopub.status.idle": "2024-05-12T05:28:40.083174Z",
     "shell.execute_reply": "2024-05-12T05:28:40.082408Z",
     "shell.execute_reply.started": "2024-05-12T05:28:40.077006Z"
    }
   },
   "outputs": [],
   "source": [
    "def train_epoch(model, data_loader, optimizer, device):\n",
    "    model.train()\n",
    "    total_loss = 0\n",
    "    for batch in data_loader:\n",
    "        batch = {k: v.to(device) for k, v in batch.items()}\n",
    "        outputs = model(**batch)\n",
    "        loss = outputs.loss\n",
    "        loss.backward()\n",
    "        optimizer.step()\n",
    "        optimizer.zero_grad()\n",
    "        total_loss += loss.item()\n",
    "    return total_loss / len(data_loader)"
   ]
  },
  {
   "cell_type": "markdown",
   "id": "c805e11f",
   "metadata": {},
   "source": [
    "### Evaluting the model"
   ]
  },
  {
   "cell_type": "code",
   "execution_count": 20,
   "id": "e559cce3",
   "metadata": {
    "execution": {
     "iopub.execute_input": "2024-05-12T05:28:40.084435Z",
     "iopub.status.busy": "2024-05-12T05:28:40.084183Z",
     "iopub.status.idle": "2024-05-12T05:28:40.093667Z",
     "shell.execute_reply": "2024-05-12T05:28:40.092741Z",
     "shell.execute_reply.started": "2024-05-12T05:28:40.084397Z"
    }
   },
   "outputs": [],
   "source": [
    "def eval_model(model, data_loader, device):\n",
    "    model.eval()\n",
    "    total_loss = 0\n",
    "    predictions, true_labels = [], []\n",
    "    with torch.no_grad():\n",
    "        for batch in data_loader:\n",
    "            batch = {k: v.to(device) for k, v in batch.items()}\n",
    "            outputs = model(**batch)\n",
    "            loss = outputs.loss\n",
    "            total_loss += loss.item()\n",
    "            \n",
    "            logits = outputs.logits.detach().cpu().numpy()\n",
    "            label_ids = batch['labels'].detach().cpu().numpy()\n",
    "            \n",
    "            # Converting logits to predicted labels\n",
    "            pred_flat = np.argmax(logits, axis=2).flatten()\n",
    "            labels_flat = label_ids.flatten()\n",
    "            predictions.extend(pred_flat[labels_flat != -100])  \n",
    "            true_labels.extend(labels_flat[labels_flat != -100])\n",
    "    \n",
    "    accuracy = accuracy_score(true_labels, predictions)\n",
    "    f1 = f1_score(true_labels, predictions, average='weighted')\n",
    "    fbeta = fbeta_score(true_labels, predictions, beta=5, average='micro')\n",
    "    \n",
    "    return total_loss / len(data_loader), accuracy, f1, fbeta"
   ]
  },
  {
   "cell_type": "markdown",
   "id": "e3fc68ce",
   "metadata": {},
   "source": [
    "### Training and Evalution loop"
   ]
  },
  {
   "cell_type": "code",
   "execution_count": 21,
   "id": "df431c48",
   "metadata": {
    "execution": {
     "iopub.execute_input": "2024-05-12T05:28:40.095050Z",
     "iopub.status.busy": "2024-05-12T05:28:40.094769Z",
     "iopub.status.idle": "2024-05-12T05:56:26.059963Z",
     "shell.execute_reply": "2024-05-12T05:56:26.059005Z",
     "shell.execute_reply.started": "2024-05-12T05:28:40.095026Z"
    }
   },
   "outputs": [
    {
     "name": "stdout",
     "output_type": "stream",
     "text": [
      "Epoch 1, Train Loss: 0.05404066285069828, Val Loss: 0.004566879943013191, Accuracy: 0.9992991465516418, F1: 0.9989488426693988, FBeta: 0.9992991465516416\n",
      "Epoch 2, Train Loss: 0.003575071260696593, Val Loss: 0.0025572862048351833, Accuracy: 0.9995444452585671, F1: 0.9994173114745286, FBeta: 0.999544445258567\n",
      "Epoch 3, Train Loss: 0.002015795611883404, Val Loss: 0.0016544540663152327, Accuracy: 0.9997419585031044, F1: 0.9996923941398537, FBeta: 0.9997419585031043\n",
      "Epoch 4, Train Loss: 0.0013267136442289, Val Loss: 0.0012833659468099562, Accuracy: 0.999786558268, F1: 0.9997355295235048, FBeta: 0.9997865582680001\n",
      "Epoch 5, Train Loss: 0.0008999125643082537, Val Loss: 0.001100471030059812, Accuracy: 0.9997770011755224, F1: 0.9997246787992815, FBeta: 0.9997770011755224\n",
      "Epoch 6, Train Loss: 0.0006576179333809914, Val Loss: 0.0010558151048445685, Accuracy: 0.999745144200597, F1: 0.9997190131391279, FBeta: 0.9997451442005969\n",
      "Epoch 7, Train Loss: 0.0004962128045644694, Val Loss: 0.0009300581945734488, Accuracy: 0.9998120438479403, F1: 0.9997805594251173, FBeta: 0.9998120438479404\n",
      "Epoch 8, Train Loss: 0.0003992812669645708, Val Loss: 0.0008358964129678666, Accuracy: 0.999827972335403, F1: 0.9997960626500646, FBeta: 0.999827972335403\n",
      "Epoch 9, Train Loss: 0.00029417983657958874, Val Loss: 0.0010408488431198218, Accuracy: 0.9998056724529553, F1: 0.9997725867346549, FBeta: 0.9998056724529553\n",
      "Epoch 10, Train Loss: 0.0002505028484227785, Val Loss: 0.000892896386408951, Accuracy: 0.9998216009404179, F1: 0.9997906543978056, FBeta: 0.9998216009404179\n"
     ]
    }
   ],
   "source": [
    "for epoch in range(10):\n",
    "    train_loss = train_epoch(model, train_loader, optimizer, device)\n",
    "    val_loss, accuracy, f1, fbeta = eval_model(model, val_loader, device)\n",
    "    \n",
    "    train_losses.append(train_loss)\n",
    "    val_losses.append(val_loss)\n",
    "    accuracies.append(accuracy)\n",
    "    f1_scores.append(f1)\n",
    "    fbeta_scores.append(fbeta)\n",
    "    \n",
    "    print(f\"Epoch {epoch + 1}, Train Loss: {train_loss}, Val Loss: {val_loss}, Accuracy: {accuracy}, F1: {f1}, FBeta: {fbeta}\")"
   ]
  },
  {
   "cell_type": "code",
   "execution_count": 22,
   "id": "fc2de86d",
   "metadata": {
    "execution": {
     "iopub.execute_input": "2024-05-12T05:56:26.061482Z",
     "iopub.status.busy": "2024-05-12T05:56:26.061188Z",
     "iopub.status.idle": "2024-05-12T05:56:26.379544Z",
     "shell.execute_reply": "2024-05-12T05:56:26.378593Z",
     "shell.execute_reply.started": "2024-05-12T05:56:26.061456Z"
    }
   },
   "outputs": [
    {
     "data": {
      "image/png": "[encoded data removed]",
      "text/plain": [
       "<Figure size 1200x800 with 1 Axes>"
      ]
     },
     "metadata": {},
     "output_type": "display_data"
    }
   ],
   "source": [
    "# Plotting the training and validation loss\n",
    "plt.figure(figsize=(12, 8))\n",
    "plt.plot(train_losses, label='Training Loss')\n",
    "plt.plot(val_losses, label='Validation Loss')\n",
    "plt.xlabel('Epoch')\n",
    "plt.ylabel('Loss')\n",
    "plt.title('Training and Validation Loss Over')\n",
    "plt.legend()\n",
    "plt.show()"
   ]
  },
  {
   "cell_type": "markdown",
   "id": "b44487fe",
   "metadata": {},
   "source": [
    "### Saving the model"
   ]
  },
  {
   "cell_type": "code",
   "execution_count": 23,
   "id": "0f1b5442",
   "metadata": {
    "execution": {
     "iopub.execute_input": "2024-05-12T05:56:26.381178Z",
     "iopub.status.busy": "2024-05-12T05:56:26.380806Z",
     "iopub.status.idle": "2024-05-12T05:56:27.011663Z",
     "shell.execute_reply": "2024-05-12T05:56:27.010621Z",
     "shell.execute_reply.started": "2024-05-12T05:56:26.381140Z"
    }
   },
   "outputs": [],
   "source": [
    "torch.save(model.state_dict(), '/kaggle/working/distilbert_model_weights.pth')"
   ]
  },
  {
   "cell_type": "markdown",
   "id": "3fef5110",
   "metadata": {},
   "source": [
    "### Loading the saved model"
   ]
  },
  {
   "cell_type": "code",
   "execution_count": 24,
   "id": "7480e27b",
   "metadata": {
    "execution": {
     "iopub.execute_input": "2024-05-12T05:56:27.014017Z",
     "iopub.status.busy": "2024-05-12T05:56:27.013349Z",
     "iopub.status.idle": "2024-05-12T05:56:27.229290Z",
     "shell.execute_reply": "2024-05-12T05:56:27.228381Z",
     "shell.execute_reply.started": "2024-05-12T05:56:27.013979Z"
    }
   },
   "outputs": [
    {
     "data": {
      "text/plain": [
       "DistilBertForTokenClassification(\n",
       "  (distilbert): DistilBertModel(\n",
       "    (embeddings): Embeddings(\n",
       "      (word_embeddings): Embedding(30522, 768, padding_idx=0)\n",
       "      (position_embeddings): Embedding(512, 768)\n",
       "      (LayerNorm): LayerNorm((768,), eps=1e-12, elementwise_affine=True)\n",
       "      (dropout): Dropout(p=0.1, inplace=False)\n",
       "    )\n",
       "    (transformer): Transformer(\n",
       "      (layer): ModuleList(\n",
       "        (0-5): 6 x TransformerBlock(\n",
       "          (attention): MultiHeadSelfAttention(\n",
       "            (dropout): Dropout(p=0.1, inplace=False)\n",
       "            (q_lin): Linear(in_features=768, out_features=768, bias=True)\n",
       "            (k_lin): Linear(in_features=768, out_features=768, bias=True)\n",
       "            (v_lin): Linear(in_features=768, out_features=768, bias=True)\n",
       "            (out_lin): Linear(in_features=768, out_features=768, bias=True)\n",
       "          )\n",
       "          (sa_layer_norm): LayerNorm((768,), eps=1e-12, elementwise_affine=True)\n",
       "          (ffn): FFN(\n",
       "            (dropout): Dropout(p=0.1, inplace=False)\n",
       "            (lin1): Linear(in_features=768, out_features=3072, bias=True)\n",
       "            (lin2): Linear(in_features=3072, out_features=768, bias=True)\n",
       "            (activation): GELUActivation()\n",
       "          )\n",
       "          (output_layer_norm): LayerNorm((768,), eps=1e-12, elementwise_affine=True)\n",
       "        )\n",
       "      )\n",
       "    )\n",
       "  )\n",
       "  (dropout): Dropout(p=0.1, inplace=False)\n",
       "  (classifier): Linear(in_features=768, out_features=15, bias=True)\n",
       ")"
      ]
     },
     "execution_count": 24,
     "metadata": {},
     "output_type": "execute_result"
    }
   ],
   "source": [
    "model.load_state_dict(torch.load('/kaggle/working/distilbert_model_weights.pth'))\n",
    "model.eval()  # Setting the model to evaluation mode\n",
    "model.to(device)"
   ]
  },
  {
   "cell_type": "markdown",
   "id": "28811984",
   "metadata": {},
   "source": [
    "### Inferencing on test data"
   ]
  },
  {
   "cell_type": "code",
   "execution_count": 25,
   "id": "1aa2a239",
   "metadata": {
    "execution": {
     "iopub.execute_input": "2024-05-12T05:56:27.230800Z",
     "iopub.status.busy": "2024-05-12T05:56:27.230511Z",
     "iopub.status.idle": "2024-05-12T05:56:27.236410Z",
     "shell.execute_reply": "2024-05-12T05:56:27.235522Z",
     "shell.execute_reply.started": "2024-05-12T05:56:27.230775Z"
    }
   },
   "outputs": [],
   "source": [
    "# Defining the dataset for handling tokenized data\n",
    "class TestData(Dataset):\n",
    "    def __init__(self, encodings):\n",
    "        self.encodings = encodings\n",
    "\n",
    "    def __getitem__(self, idx):\n",
    "        return {key: torch.tensor(val[idx]) for key, val in self.encodings.items()}\n",
    "\n",
    "    def __len__(self):\n",
    "        return len(self.encodings.input_ids)"
   ]
  },
  {
   "cell_type": "code",
   "execution_count": 26,
   "id": "76212993",
   "metadata": {
    "execution": {
     "iopub.execute_input": "2024-05-12T05:56:27.238081Z",
     "iopub.status.busy": "2024-05-12T05:56:27.237725Z",
     "iopub.status.idle": "2024-05-12T05:56:27.268630Z",
     "shell.execute_reply": "2024-05-12T05:56:27.267736Z",
     "shell.execute_reply.started": "2024-05-12T05:56:27.238049Z"
    }
   },
   "outputs": [],
   "source": [
    "def tokenize_data(data, tokenizer, max_length=512):\n",
    "    tokenized_inputs = tokenizer(data['full_text'].tolist(), truncation=True, padding='max_length', is_split_into_words=False, return_tensors=\"pt\", max_length=max_length)\n",
    "    return tokenized_inputs\n",
    "\n",
    "# Tokenizing the test data\n",
    "test_tokenized = tokenize_data(test_data, tokenizer)"
   ]
  },
  {
   "cell_type": "code",
   "execution_count": 27,
   "id": "496e6f00",
   "metadata": {
    "execution": {
     "iopub.execute_input": "2024-05-12T05:56:27.270115Z",
     "iopub.status.busy": "2024-05-12T05:56:27.269763Z",
     "iopub.status.idle": "2024-05-12T05:56:27.274897Z",
     "shell.execute_reply": "2024-05-12T05:56:27.273999Z",
     "shell.execute_reply.started": "2024-05-12T05:56:27.270083Z"
    }
   },
   "outputs": [],
   "source": [
    "# Creating test dataset and loader\n",
    "test_dataset = TestData(test_tokenized)\n",
    "test_loader = DataLoader(test_dataset, batch_size=16, shuffle=False)"
   ]
  },
  {
   "cell_type": "code",
   "execution_count": 28,
   "id": "0f532ece",
   "metadata": {
    "execution": {
     "iopub.execute_input": "2024-05-12T05:56:27.276748Z",
     "iopub.status.busy": "2024-05-12T05:56:27.276435Z",
     "iopub.status.idle": "2024-05-12T05:56:27.374772Z",
     "shell.execute_reply": "2024-05-12T05:56:27.373927Z",
     "shell.execute_reply.started": "2024-05-12T05:56:27.276713Z"
    }
   },
   "outputs": [],
   "source": [
    "# Predicting on test data\n",
    "def predict_test_data(model, data_loader):\n",
    "    model.eval()\n",
    "    predictions = []\n",
    "    with torch.no_grad():\n",
    "        for batch in data_loader:\n",
    "            batch = {k: v.to(device) for k, v in batch.items()}\n",
    "            outputs = model(**batch)\n",
    "            logits = outputs.logits\n",
    "            predicted_labels = torch.argmax(logits, dim=-1)\n",
    "            predictions.extend(predicted_labels.cpu().numpy())\n",
    "    return predictions\n",
    "\n",
    "# Getting predictions\n",
    "test_predictions = predict_test_data(model, test_loader)"
   ]
  },
  {
   "cell_type": "code",
   "execution_count": 29,
   "id": "07ce3b16",
   "metadata": {
    "execution": {
     "iopub.execute_input": "2024-05-12T05:56:27.376246Z",
     "iopub.status.busy": "2024-05-12T05:56:27.375994Z",
     "iopub.status.idle": "2024-05-12T05:56:27.385597Z",
     "shell.execute_reply": "2024-05-12T05:56:27.384729Z",
     "shell.execute_reply.started": "2024-05-12T05:56:27.376224Z"
    }
   },
   "outputs": [],
   "source": [
    "def prepare_submission(tokenized_data, predictions, tokenizer, label_map, documents):\n",
    "    reverse_label_map = {v: k for k, v in label_map.items()}\n",
    "    submission_rows = []\n",
    "    row_id = 0\n",
    "\n",
    "    # Iterate over each example\n",
    "    for idx, (input_ids, preds) in enumerate(zip(tokenized_data['input_ids'], predictions)):\n",
    "        tokens = tokenizer.convert_ids_to_tokens(input_ids)\n",
    "        previous_label = None\n",
    "        full_token = \"\"\n",
    "        start_token_position = 0\n",
    "        document_id = documents[idx]  \n",
    "\n",
    "        for token_idx, (token, pred_label_idx) in enumerate(zip(tokens, preds)):\n",
    "            if token in ['[CLS]', '[SEP]', '[PAD]']:\n",
    "                continue\n",
    "            if token.startswith(\"##\"):\n",
    "                full_token += token[2:]\n",
    "            else:\n",
    "                if previous_label != 'O' and full_token:\n",
    "                    submission_rows.append({\n",
    "                        'document': document_id,\n",
    "                        'token': start_token_position,\n",
    "                        'label': previous_label,\n",
    "                        'token_str': full_token,\n",
    "                        'row_id': row_id\n",
    "                    })\n",
    "                    row_id += 1\n",
    "                full_token = token\n",
    "                start_token_position = token_idx\n",
    "                previous_label = reverse_label_map[pred_label_idx]\n",
    "        \n",
    "        if previous_label != 'O' and full_token:\n",
    "            submission_rows.append({\n",
    "                'document': document_id,\n",
    "                'token': start_token_position,\n",
    "                'label': previous_label,\n",
    "                'token_str': full_token,\n",
    "                'row_id': row_id\n",
    "            })\n",
    "            row_id += 1\n",
    "\n",
    "    return pd.DataFrame(submission_rows)"
   ]
  },
  {
   "cell_type": "code",
   "execution_count": 30,
   "id": "40637088",
   "metadata": {
    "execution": {
     "iopub.execute_input": "2024-05-12T05:56:27.387681Z",
     "iopub.status.busy": "2024-05-12T05:56:27.387039Z",
     "iopub.status.idle": "2024-05-12T05:56:27.497504Z",
     "shell.execute_reply": "2024-05-12T05:56:27.496605Z",
     "shell.execute_reply.started": "2024-05-12T05:56:27.387646Z"
    }
   },
   "outputs": [
    {
     "data": {
      "text/html": [
       "<div>\n",
       "<style scoped>\n",
       "    .dataframe tbody tr th:only-of-type {\n",
       "        vertical-align: middle;\n",
       "    }\n",
       "\n",
       "    .dataframe tbody tr th {\n",
       "        vertical-align: top;\n",
       "    }\n",
       "\n",
       "    .dataframe thead th {\n",
       "        text-align: right;\n",
       "    }\n",
       "</style>\n",
       "<table border=\"1\" class=\"dataframe\">\n",
       "  <thead>\n",
       "    <tr style=\"text-align: right;\">\n",
       "      <th></th>\n",
       "      <th>document</th>\n",
       "      <th>token</th>\n",
       "      <th>label</th>\n",
       "      <th>token_str</th>\n",
       "      <th>row_id</th>\n",
       "    </tr>\n",
       "  </thead>\n",
       "  <tbody>\n",
       "    <tr>\n",
       "      <th>0</th>\n",
       "      <td>7</td>\n",
       "      <td>12</td>\n",
       "      <td>B-NAME_STUDENT</td>\n",
       "      <td>nathalie</td>\n",
       "      <td>0</td>\n",
       "    </tr>\n",
       "    <tr>\n",
       "      <th>1</th>\n",
       "      <td>7</td>\n",
       "      <td>15</td>\n",
       "      <td>I-NAME_STUDENT</td>\n",
       "      <td>sylla</td>\n",
       "      <td>1</td>\n",
       "    </tr>\n",
       "    <tr>\n",
       "      <th>2</th>\n",
       "      <td>7</td>\n",
       "      <td>474</td>\n",
       "      <td>B-NAME_STUDENT</td>\n",
       "      <td>nathalie</td>\n",
       "      <td>2</td>\n",
       "    </tr>\n",
       "    <tr>\n",
       "      <th>3</th>\n",
       "      <td>7</td>\n",
       "      <td>477</td>\n",
       "      <td>I-NAME_STUDENT</td>\n",
       "      <td>sylla</td>\n",
       "      <td>3</td>\n",
       "    </tr>\n",
       "    <tr>\n",
       "      <th>4</th>\n",
       "      <td>10</td>\n",
       "      <td>1</td>\n",
       "      <td>B-NAME_STUDENT</td>\n",
       "      <td>diego</td>\n",
       "      <td>4</td>\n",
       "    </tr>\n",
       "    <tr>\n",
       "      <th>5</th>\n",
       "      <td>10</td>\n",
       "      <td>2</td>\n",
       "      <td>I-NAME_STUDENT</td>\n",
       "      <td>estrada</td>\n",
       "      <td>5</td>\n",
       "    </tr>\n",
       "    <tr>\n",
       "      <th>6</th>\n",
       "      <td>10</td>\n",
       "      <td>444</td>\n",
       "      <td>B-NAME_STUDENT</td>\n",
       "      <td>diego</td>\n",
       "      <td>6</td>\n",
       "    </tr>\n",
       "    <tr>\n",
       "      <th>7</th>\n",
       "      <td>10</td>\n",
       "      <td>445</td>\n",
       "      <td>I-NAME_STUDENT</td>\n",
       "      <td>estrada</td>\n",
       "      <td>7</td>\n",
       "    </tr>\n",
       "    <tr>\n",
       "      <th>8</th>\n",
       "      <td>16</td>\n",
       "      <td>4</td>\n",
       "      <td>B-NAME_STUDENT</td>\n",
       "      <td>gilberto</td>\n",
       "      <td>8</td>\n",
       "    </tr>\n",
       "    <tr>\n",
       "      <th>9</th>\n",
       "      <td>16</td>\n",
       "      <td>6</td>\n",
       "      <td>I-NAME_STUDENT</td>\n",
       "      <td>gamboa</td>\n",
       "      <td>9</td>\n",
       "    </tr>\n",
       "    <tr>\n",
       "      <th>10</th>\n",
       "      <td>20</td>\n",
       "      <td>5</td>\n",
       "      <td>B-NAME_STUDENT</td>\n",
       "      <td>sindy</td>\n",
       "      <td>10</td>\n",
       "    </tr>\n",
       "    <tr>\n",
       "      <th>11</th>\n",
       "      <td>20</td>\n",
       "      <td>7</td>\n",
       "      <td>I-NAME_STUDENT</td>\n",
       "      <td>samaca</td>\n",
       "      <td>11</td>\n",
       "    </tr>\n",
       "    <tr>\n",
       "      <th>12</th>\n",
       "      <td>56</td>\n",
       "      <td>9</td>\n",
       "      <td>B-NAME_STUDENT</td>\n",
       "      <td>nadine</td>\n",
       "      <td>12</td>\n",
       "    </tr>\n",
       "    <tr>\n",
       "      <th>13</th>\n",
       "      <td>56</td>\n",
       "      <td>11</td>\n",
       "      <td>I-NAME_STUDENT</td>\n",
       "      <td>born</td>\n",
       "      <td>13</td>\n",
       "    </tr>\n",
       "    <tr>\n",
       "      <th>14</th>\n",
       "      <td>86</td>\n",
       "      <td>7</td>\n",
       "      <td>B-NAME_STUDENT</td>\n",
       "      <td>eladio</td>\n",
       "      <td>14</td>\n",
       "    </tr>\n",
       "    <tr>\n",
       "      <th>15</th>\n",
       "      <td>86</td>\n",
       "      <td>10</td>\n",
       "      <td>I-NAME_STUDENT</td>\n",
       "      <td>amaya</td>\n",
       "      <td>15</td>\n",
       "    </tr>\n",
       "    <tr>\n",
       "      <th>16</th>\n",
       "      <td>93</td>\n",
       "      <td>1</td>\n",
       "      <td>B-NAME_STUDENT</td>\n",
       "      <td>silvia</td>\n",
       "      <td>16</td>\n",
       "    </tr>\n",
       "    <tr>\n",
       "      <th>17</th>\n",
       "      <td>93</td>\n",
       "      <td>2</td>\n",
       "      <td>I-NAME_STUDENT</td>\n",
       "      <td>villalobos</td>\n",
       "      <td>17</td>\n",
       "    </tr>\n",
       "    <tr>\n",
       "      <th>18</th>\n",
       "      <td>104</td>\n",
       "      <td>7</td>\n",
       "      <td>B-NAME_STUDENT</td>\n",
       "      <td>sakir</td>\n",
       "      <td>18</td>\n",
       "    </tr>\n",
       "    <tr>\n",
       "      <th>19</th>\n",
       "      <td>104</td>\n",
       "      <td>9</td>\n",
       "      <td>I-NAME_STUDENT</td>\n",
       "      <td>ahmad</td>\n",
       "      <td>19</td>\n",
       "    </tr>\n",
       "    <tr>\n",
       "      <th>20</th>\n",
       "      <td>112</td>\n",
       "      <td>5</td>\n",
       "      <td>B-NAME_STUDENT</td>\n",
       "      <td>francisco</td>\n",
       "      <td>20</td>\n",
       "    </tr>\n",
       "    <tr>\n",
       "      <th>21</th>\n",
       "      <td>112</td>\n",
       "      <td>6</td>\n",
       "      <td>I-NAME_STUDENT</td>\n",
       "      <td>ferreira</td>\n",
       "      <td>21</td>\n",
       "    </tr>\n",
       "    <tr>\n",
       "      <th>22</th>\n",
       "      <td>123</td>\n",
       "      <td>29</td>\n",
       "      <td>B-NAME_STUDENT</td>\n",
       "      <td>stefano</td>\n",
       "      <td>22</td>\n",
       "    </tr>\n",
       "    <tr>\n",
       "      <th>23</th>\n",
       "      <td>123</td>\n",
       "      <td>30</td>\n",
       "      <td>I-NAME_STUDENT</td>\n",
       "      <td>lovato</td>\n",
       "      <td>23</td>\n",
       "    </tr>\n",
       "  </tbody>\n",
       "</table>\n",
       "</div>"
      ],
      "text/plain": [
       "    document  token           label   token_str  row_id\n",
       "0          7     12  B-NAME_STUDENT    nathalie       0\n",
       "1          7     15  I-NAME_STUDENT       sylla       1\n",
       "2          7    474  B-NAME_STUDENT    nathalie       2\n",
       "3          7    477  I-NAME_STUDENT       sylla       3\n",
       "4         10      1  B-NAME_STUDENT       diego       4\n",
       "5         10      2  I-NAME_STUDENT     estrada       5\n",
       "6         10    444  B-NAME_STUDENT       diego       6\n",
       "7         10    445  I-NAME_STUDENT     estrada       7\n",
       "8         16      4  B-NAME_STUDENT    gilberto       8\n",
       "9         16      6  I-NAME_STUDENT      gamboa       9\n",
       "10        20      5  B-NAME_STUDENT       sindy      10\n",
       "11        20      7  I-NAME_STUDENT      samaca      11\n",
       "12        56      9  B-NAME_STUDENT      nadine      12\n",
       "13        56     11  I-NAME_STUDENT        born      13\n",
       "14        86      7  B-NAME_STUDENT      eladio      14\n",
       "15        86     10  I-NAME_STUDENT       amaya      15\n",
       "16        93      1  B-NAME_STUDENT      silvia      16\n",
       "17        93      2  I-NAME_STUDENT  villalobos      17\n",
       "18       104      7  B-NAME_STUDENT       sakir      18\n",
       "19       104      9  I-NAME_STUDENT       ahmad      19\n",
       "20       112      5  B-NAME_STUDENT   francisco      20\n",
       "21       112      6  I-NAME_STUDENT    ferreira      21\n",
       "22       123     29  B-NAME_STUDENT     stefano      22\n",
       "23       123     30  I-NAME_STUDENT      lovato      23"
      ]
     },
     "execution_count": 30,
     "metadata": {},
     "output_type": "execute_result"
    }
   ],
   "source": [
    "submission_df = prepare_submission(test_tokenized, test_predictions, tokenizer, label_map, test_data['document'])\n",
    "submission_df.to_csv('submission.csv', index=False)\n",
    "submission_df"
   ]
  }
 ],
 "metadata": {
  "kaggle": {
   "accelerator": "gpu",
   "dataSources": [
    {
     "databundleVersionId": 7500999,
     "sourceId": 66653,
     "sourceType": "competition"
    }
   ],
   "dockerImageVersionId": 30699,
   "isGpuEnabled": true,
   "isInternetEnabled": true,
   "language": "python",
   "sourceType": "notebook"
  },
  "kernelspec": {
   "display_name": "Python 3 (ipykernel)",
   "language": "python",
   "name": "python3"
  },
  "language_info": {
   "codemirror_mode": {
    "name": "ipython",
    "version": 3
   },
   "file_extension": ".py",
   "mimetype": "text/x-python",
   "name": "python",
   "nbconvert_exporter": "python",
   "pygments_lexer": "ipython3",
   "version": "3.9.13"
  }
 },
 "nbformat": 4,
 "nbformat_minor": 5
}
